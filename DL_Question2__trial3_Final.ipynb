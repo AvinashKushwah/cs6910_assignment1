{
  "cells": [
    {
      "cell_type": "markdown",
      "metadata": {
        "id": "view-in-github",
        "colab_type": "text"
      },
      "source": [
        "<a href=\"https://colab.research.google.com/github/AvinashKushwah/cs6910_assignment1/blob/main/DL_Question2__trial3_Final.ipynb\" target=\"_parent\"><img src=\"https://colab.research.google.com/assets/colab-badge.svg\" alt=\"Open In Colab\"/></a>"
      ]
    },
    {
      "cell_type": "code",
      "execution_count": null,
      "metadata": {
        "id": "aT_oMtPmCeS3",
        "colab": {
          "base_uri": "https://localhost:8080/"
        },
        "outputId": "f2bf6027-ab3d-4b1f-a275-bc1c83a6f959"
      },
      "outputs": [
        {
          "output_type": "stream",
          "name": "stdout",
          "text": [
            "[9 0 0 ... 3 0 5]\n"
          ]
        }
      ],
      "source": [
        "from keras.datasets import fashion_mnist\n",
        "import matplotlib.pyplot as plt\n",
        "import numpy as np\n",
        "\n",
        "\n",
        "# Load the Fashion-MNIST dataset\n",
        "(x_train, y_train), (x_test, y_test) = fashion_mnist.load_data()\n",
        "print(y_train)\n",
        "# Define the class names\n",
        "class_names = ['T-shirt/top', 'Trouser', 'Pullover', 'Dress', 'Coat',\n",
        "               'Sandal', 'Shirt', 'Sneaker', 'Bag', 'Ankle boot']\n",
        "               "
      ]
    },
    {
      "cell_type": "code",
      "execution_count": null,
      "metadata": {
        "colab": {
          "base_uri": "https://localhost:8080/"
        },
        "id": "8e5eb7NvCAbX",
        "outputId": "9761636d-f827-4a5a-ec1a-56ece354e72b"
      },
      "outputs": [
        {
          "output_type": "stream",
          "name": "stdout",
          "text": [
            "(60000, 784)\n",
            "60000\n"
          ]
        }
      ],
      "source": [
        "x_trainFlat = x_train.reshape(len(x_train),784).astype('float32')/255\n",
        "print(x_trainFlat.shape)\n",
        "x_testFlat = x_test.reshape(len(x_test),784).astype('float32')/255\n",
        "print(x_trainFlat.shape[0])\n",
        "\n"
      ]
    },
    {
      "cell_type": "code",
      "execution_count": null,
      "metadata": {
        "id": "XuBTUkAWG_Km"
      },
      "outputs": [],
      "source": [
        "# Activation Function\n",
        "\n",
        "def sigmoid(x):\n",
        "  return 1.0/(1.0 + np.exp(-x))\n",
        "\n",
        "def sigmoid_diff(x):\n",
        "  return (1 - sigmoid(x)) * sigmoid(x)\n",
        "\n",
        "# def softmax(x):\n",
        "#   # x -= np.max(x,axis =1,keepdims=True)  #subtracting to avoid numerical instablity\n",
        "#   # temp = np.exp(x)\n",
        "#   # softmax_result = temp/np.sum(temp,axis=1,keepdims=True)\n",
        "#   # return softmax_result\n",
        "#   x = x.reshape((1,10))\n",
        "#   exp_x = np.exp(x)\n",
        "#   return exp_x / np.sum(exp_x, axis=1, keepdims=True)\n",
        "\n",
        "\n"
      ]
    },
    {
      "cell_type": "code",
      "execution_count": null,
      "metadata": {
        "colab": {
          "base_uri": "https://localhost:8080/",
          "height": 327
        },
        "id": "80ZYFHeQIy05",
        "outputId": "b26ab15c-b2c1-4f6e-f1b6-786fc68aa4cc"
      },
      "outputs": [
        {
          "name": "stdout",
          "output_type": "stream",
          "text": [
            "(60000,)\n",
            "(28, 28)\n",
            "enter number of Hidden layers:2\n"
          ]
        },
        {
          "output_type": "display_data",
          "data": {
            "text/plain": [
              "<Figure size 288x288 with 1 Axes>"
            ],
            "image/png": "[encoded data removed]"
          },
          "metadata": {
            "needs_background": "light"
          }
        }
      ],
      "source": [
        "# Normalize the image pixel intesity within a range of 0-1\n",
        "# x_train = x_train/255\n",
        "# x_test = x_test /255\n",
        "print(y_train.shape)\n",
        "print(x_train[0].shape)\n",
        "plt.matshow(x_train[0])\n",
        "layers = int(input(\"enter number of Hidden layers:\"))\n",
        "layers = int(layers)"
      ]
    },
    {
      "cell_type": "code",
      "execution_count": null,
      "metadata": {
        "id": "5FC3bkmu2bs6"
      },
      "outputs": [],
      "source": [
        "# layers = input(\"enter number of Hidden layers:\")\n",
        "# layers = int(layers)\n",
        "# numberOfNeurons =[]               # number of neurons at each Hidden Layer\n",
        "# W = []                            #store the Weight matrix at each layer\n",
        "# b = []                            #store the bias vector at each layer\n",
        "\n",
        "\n",
        "# for i in range(layers):                       \n",
        "#   randomNumber = np.random.randint(4,10)\n",
        "#   numberOfNeurons.append(randomNumber)\n",
        "#   if( i== 0):\n",
        "#     w_temp =np.random.rand(randomNumber,784)\n",
        "#     b_temp = np.random.rand(randomNumber)\n",
        "#     W.append(w_temp)\n",
        "#     b.append(b_temp)\n",
        "#   else:\n",
        "#     w_temp = np.random.rand(numberOfNeurons[i],numberOfNeurons[i-1])\n",
        "#     b_temp = np.random.rand(numberOfNeurons[i])\n",
        "#     W.append(w_temp);\n",
        "#     b.append(b_temp)\n",
        "\n",
        "# output_w = np.random.rand(10,numberOfNeurons[layers-1])\n",
        "# output_b = np.random.rand(10)\n",
        "# W.append(output_w)\n",
        "# b.append(output_b)\n",
        "\n",
        "# #print(len(W))\n",
        "# #print(len(b))\n",
        "# #print(W[0].shape)\n",
        "# # def randomIntialization(dimx,dimy):\n",
        "# #   W_temp = np.random.randint(10,size=(dimx,dimy)) # assigning random number between 0-9\n",
        "# #   b_temp = np.random.randint(10,size=(dimx))\n",
        "# #   return W_temp, b_temp\n",
        "\n",
        "\n",
        "\n",
        "# def feedForward(input_data):\n",
        "    \n",
        "#    Y= sigmoid(np.dot(W[0],input_data) + b[0])\n",
        "#    for i in range(1,layers):\n",
        "#       Y = sigmoid(np.dot(W[i],Y)) + b[i]\n",
        "  \n",
        "#    output = sigmoid(np.dot(W[layers],Y)) + b[layers]\n",
        "#    return output\n",
        "\n",
        "\n",
        "\n",
        "\n",
        "# output = feedForward(x_trainFlat[0])\n",
        "# outputSoftmax = softmax(output)\n",
        "# #print(output.shape)\n",
        "# print(outputSoftmax)\n",
        "\n"
      ]
    },
    {
      "cell_type": "code",
      "execution_count": null,
      "metadata": {
        "id": "6pl3IeUQQ6cC"
      },
      "outputs": [],
      "source": [
        "# def softmax1(x):\n",
        "#   x -= np.max(x,axis =1,keepdims=True)  #subtracting to avoid numerical instablity\n",
        "#   temp = np.exp(x)\n",
        "#   softmax_result = temp/np.sum(temp,axis=1,keepdims=True)\n",
        "#   return softmax_result\n",
        " # x = x.reshape((1,10))\n",
        "  # exp_x = np.exp(x)\n",
        "  # return exp_x / np.sum(exp_x, axis=1, keepdims=True)\n",
        "\n",
        "def softmax1(Z):\n",
        "    A = np.exp(Z) / sum(np.exp(Z))\n",
        "    return A\n",
        "  \n",
        "def ReLU(x):\n",
        "    return np.maximum(x, 0)\n",
        "\n",
        "def ReLU_deriv(x):\n",
        "    return x > 0\n",
        "\n",
        "def Initalize_Wb():\n",
        "  #layers = int(input(\"enter number of Hidden layers:\"))\n",
        "  #layers = int(layers)\n",
        "  numberOfNeurons =[]               # number of neurons at each Hidden Layer\n",
        "  W = []                            #store the Weight matrix at each layer\n",
        "  b = []                            #store the bias vector at each layer\n",
        "  for i in range(layers):                       \n",
        "    randomNumber = np.random.randint(64,256)\n",
        "    numberOfNeurons.append(randomNumber)\n",
        "    if( i== 0):\n",
        "      w_temp =np.random.rand(randomNumber,784) - 0.5\n",
        "      b_temp = np.random.rand(randomNumber,1) - 0.5\n",
        "      W.append(w_temp)\n",
        "      b.append(b_temp)\n",
        "    else:\n",
        "      w_temp = np.random.rand(numberOfNeurons[i],numberOfNeurons[i-1]) - 0.5\n",
        "      b_temp = np.random.rand(numberOfNeurons[i],1) - 0.5\n",
        "      W.append(w_temp);\n",
        "      b.append(b_temp)\n",
        "\n",
        "  print(numberOfNeurons)\n",
        "  output_w = np.random.rand(10,numberOfNeurons[layers-1]) - 0.5\n",
        "  output_b = np.random.rand(10,1) - 0.5\n",
        "  W.append(output_w)\n",
        "  b.append(output_b)\n",
        "  # print(len(W))\n",
        "  # print(len(b))\n",
        "  # print(W[0].shape)\n",
        "  # print(W[1].shape)\n",
        "  # print(W[2].shape)\n",
        "  # print(b[0].shape)\n",
        "  # print(b[1].shape)\n",
        "  # print(b[2].shape)\n",
        "\n",
        "  return W,b\n",
        "\n",
        "\n",
        "# def randomIntialization(dimx,dimy):\n",
        "#   W_temp = np.random.randint(10,size=(dimx,dimy)) # assigning random number between 0-9\n",
        "#   b_temp = np.random.randint(10,size=(dimx))\n",
        "#   return W_temp, b_temp\n",
        "\n",
        "def feedForward(input_data,W,b):\n",
        "  \n",
        "   output =[]\n",
        "   temp =[]\n",
        "   A =[]\n",
        "  #  print(\"hello\",b[0].shape)\n",
        "  #  print(b[0].reshape(-1,1).shape)\n",
        "   Y =np.dot(W[0],input_data) + b[0]\n",
        "   temp.append(Y)\n",
        "   Y= ReLU(Y)\n",
        "   A.append(Y)\n",
        "   for i in range(1,layers):\n",
        "      Y =np.dot(W[i],Y) + b[i]\n",
        "      temp.append(Y)\n",
        "      Y=ReLU(Y)\n",
        "      A.append(Y)\n",
        "   temp2=np.dot(W[layers],Y) + b[layers]\n",
        "   temp.append(temp2)\n",
        "   output=(softmax1(ReLU(temp2)))\n",
        "   #print(\"softmaxt\",output[:,1])\n",
        "   return output,temp,A\n",
        "\n",
        "\n",
        "\n",
        "#print(x_trainFlat.shape)\n",
        "#Y_predicted,Intermediate_Activation,A= feedForward(x_trainFlat.T)\n",
        "#Y_predicted = np.array(Y_predicted)\n",
        "#Intermediate_Activation = np.array(Intermediate_Activation)\n",
        "#print(Y_predicted[0][1])\n",
        "# print(Y_predicted.shape)\n",
        "# print(Intermediate_Activation[0].shape)\n",
        "# print(Intermediate_Activation[1].shape)\n",
        "# print(Intermediate_Activation[2].shape)\n",
        "\n",
        "\n"
      ]
    },
    {
      "cell_type": "code",
      "execution_count": null,
      "metadata": {
        "colab": {
          "base_uri": "https://localhost:8080/"
        },
        "id": "JRmRsw01N1gS",
        "outputId": "89c25b70-c9cc-4bfd-dd26-000d857ec4ec"
      },
      "outputs": [
        {
          "output_type": "stream",
          "name": "stdout",
          "text": [
            "(10, 60000)\n"
          ]
        }
      ],
      "source": [
        "def find_Actuall_Y():\n",
        "  X,Y = x_trainFlat.shape\n",
        "  # print(X)\n",
        "  Y_actual=[]\n",
        "  for i in range(X):\n",
        "    tempX =x_trainFlat[i]\n",
        "    tempY = y_train[i]\n",
        "    vector = np.zeros(10)             # creating a vector of size 10 and assigning '1' to the correct index of trainFlat[i]\n",
        "    vector[tempY] =1\n",
        "    Y_actual.append(vector)\n",
        "    # #outputY=softmax(feedForward(x_trainFlat[i]))\n",
        "    # Y_predicted.append(outputY)\n",
        "    # loss = -np.mean(np.sum(Y_actual * np.log(Y_predicted),axis =1))          #crossEntropy loss Caluclation\n",
        "  return Y_actual\n",
        "\n",
        "\n",
        "Y_actual = find_Actuall_Y()\n",
        "Y_actual = np.array(Y_actual)\n",
        "Y_actual = Y_actual.T\n",
        "print(Y_actual.shape)\n",
        "\n",
        "# def errorCalculation(Y_actual,Y_predicted):\n",
        "#   Y_predicted = np.clip(Y_predicted, 1e-7, 1 - 1e-7) # you may want to clip them to avoid log 0. avoiding numercial instablity\n",
        "#   temp = Y_actual.shape[0]\n",
        "#   loss = -1/temp * np.sum(np.multiply(Y_actual, np.log(Y_predicted)) + np.multiply((1 - Y_actual), np.log(1 - Y_predicted)))\n",
        "\n",
        "\n",
        "# errorLoss = errorCalculation(Y_actual, Y_predicted)\n",
        "# print(errorLoss)\n",
        "\n",
        "# Assuming Y_predicted and Y_actual are 10x60000 arrays\n",
        "def cross_entropy_loss(Y_actual, Y_predicted):\n",
        "    # Clip predicted values to avoid log(0) numerical instability\n",
        "    Y_predicted = np.clip(Y_predicted, 1e-7, 1 - 1e-7)\n",
        "    \n",
        "    # Compute cross-entropy loss\n",
        "    N = Y_actual.shape[1] # number of samples\n",
        "    loss = -1/N * np.sum(Y_actual * np.log(Y_predicted))\n",
        "    return loss\n",
        "\n",
        "# error = cross_entropy_loss(Y_actual, Y_predicted)\n",
        "# print(error)\n",
        "\n",
        "\n"
      ]
    },
    {
      "cell_type": "code",
      "execution_count": null,
      "metadata": {
        "id": "dcBVLnv5ftzg"
      },
      "outputs": [],
      "source": [
        "#Backpropogation Function\n",
        "\n",
        "def backpropagation(X, Y_actual, Y_predicted, Intermediate_Activation,A,W,b):\n",
        "    dW = [None] * (len(W)) # gradient of weight matrix at each layer\n",
        "    db = [None] * (len(b)) # gradient of bias vector at each layer\n",
        "    \n",
        "    # Compute derivative of loss with respect to output\n",
        "    dL_dZ = Y_predicted - Y_actual\n",
        "    \n",
        "    # Compute gradients for output layer\n",
        "   #dW[-1] = 1/X.shape[0] * np.dot(dL_dZ, Intermediate_Activation[-1].T)\n",
        "    dW[-1] = 1/X.shape[0] * np.dot(dL_dZ, A[-1].T)\n",
        "    db[-1] = 1/X.shape[0] * np.sum(dL_dZ, axis=1, keepdims=True)\n",
        "   # print(dL_dZ.shape)\n",
        "    #print(db[-1].shape)\n",
        "    \n",
        "    # Backpropagate gradients through hidden layers\n",
        "    for l in reversed(range(1, len(W)-1)):\n",
        "        dL_dY = np.dot(W[l+1].T, dL_dZ)\n",
        "        # print(dL_dY.shape)\n",
        "        # print(Intermediate_Activation[l].shape)\n",
        "        # zy= sigmoid_diff(Intermediate_Activation[l-1])\n",
        "        # print(zy.shape)\n",
        "        dL_dZ = dL_dY * ReLU_deriv(Intermediate_Activation[l])\n",
        "        dW[l] = 1/X.shape[0] * np.dot(dL_dZ, Intermediate_Activation[l-1].T)\n",
        "        db[l] = 1/X.shape[0] * np.sum(dL_dZ, axis=1, keepdims=True)\n",
        "\n",
        "    \n",
        "    # Compute gradients for input layer\n",
        "    dL_dY = np.dot(W[1].T, dL_dZ)\n",
        "    dL_dZ = dL_dY * ReLU_deriv(Intermediate_Activation[0])\n",
        "    dW[0] = 1/X.shape[0] * np.dot(dL_dZ, X)\n",
        "    db[0] = 1/X.shape[0] * np.sum(dL_dZ, axis=1, keepdims=True)\n",
        "    # print(\"insside update\",len(db))\n",
        "    # print(db[0].shape)\n",
        "    # print(db[1].shape)\n",
        "    # print(db[2].shape)\n",
        "    return dW, db\n",
        "\n",
        "# dW,db = backpropagation(x_trainFlat,Y_actual,Y_predicted,Intermediate_Activation)\n",
        "# print(dW[0].shape,db[0].shape)\n",
        "# print(dW[1].shape,db[1].shape)\n",
        "# print(dW[2].shape,db[2].shape)"
      ]
    },
    {
      "cell_type": "code",
      "execution_count": null,
      "metadata": {
        "id": "Demu45MGTSNp"
      },
      "outputs": [],
      "source": [
        "def Update(W,b,dW,db,learningRate):\n",
        "\n",
        "  for i in range (len(W)):\n",
        "    W[i] = W[i] -learningRate*dW[i]\n",
        "   # print(\"before update\",b[i].shape,db[i].shape)\n",
        "    b[i] = b[i] -learningRate* db[i]\n",
        "    #print(\"after update\",b[i].shape, W[i].shape)\n",
        "  \n",
        "  return W,b\n",
        "\n",
        "\n",
        "#W,b=Update(W,b,dW,db,0.1)\n"
      ]
    },
    {
      "cell_type": "code",
      "execution_count": null,
      "metadata": {
        "id": "XaLQM-cQelX4"
      },
      "outputs": [],
      "source": [
        " \n",
        "#  get_prediction(Y_predicted,y_train):\n",
        "\n",
        "\n",
        "\n",
        "# def getAccuracy()\n",
        "\n",
        "\n",
        "\n",
        "# def gradient_descent(x_trainFlat,y_train,Y_actual,iteration,learning_rate,W,b):\n",
        "\n",
        "#   for i in range(iteration):\n",
        "#     Y_predicted,Intermediate_Activation,A= feedForward(x_trainFlat.T)\n",
        "#     Y_predicted = np.array(Y_predicted)\n",
        "#     dW,db = backpropagation(x_trainFlat,Y_actual,Y_predicted,Intermediate_Activation)\n",
        "#     W,b = Update(W,b,dW,db,learning_rate)\n",
        "#     if(i%50 ==0):\n",
        "#       print(\"iteration:\",i)\n",
        "#       print(\"Accuracy:\",get_Accuracy(get_prediction(Y_predicted),y_train))\n",
        "    \n",
        "#     return W,b\n",
        "\n",
        "\n",
        "\n",
        "# W,b = gradient_descent(x_trainFlat,Y_actual,1000,0.1,W,b)\n",
        "\n",
        "\n",
        "# def getAccuracy(y_predicted, y_actual):\n",
        "#     \"\"\"\n",
        "#     Compute the accuracy of the predicted labels y_predicted compared to the actual labels y_actual.\n",
        "#     \"\"\"\n",
        "#     y_pred_labels = np.argmax(y_predicted, axis=0)\n",
        "#     print(\"Ypredicted\",y_pred_labels.shape)\n",
        "#     print(\"y_actual\",Y_actual[:,1])\n",
        "#     Intersection = y_pred_labels * Y_actual\n",
        "#     matches = np.all(Intersection == 1, axis=0)\n",
        "#     accuracy = np.mean(matches)\n",
        "    \n",
        "#     return accuracy\n",
        "\n",
        "def get_predictions(A2):\n",
        "    return np.argmax(A2, 0)\n",
        "\n",
        "def get_accuracy(predictions, Y):\n",
        "    print(predictions, Y)\n",
        "    return np.sum(predictions == Y) / Y.size\n",
        "\n",
        "# def get_prediction(Y_predicted):\n",
        "#     \"\"\"\n",
        "#     Convert the predicted output of the network Y_predicted to a one-hot encoded array of labels.\n",
        "#     \"\"\"\n",
        "#     y_pred_labels = np.argmax(Y_predicted, axis=0)\n",
        "#     n_labels = Y_predicted.shape[0]\n",
        "#     n_examples = Y_predicted.shape[1]\n",
        "#     y_pred = np.zeros((n_labels, n_examples))\n",
        "#     y_pred[y_pred_labels, np.arange(n_examples)] = 1\n",
        "#   return y_pred\n",
        "\n",
        "# def gradient_descent(x_trainFlat,Y_actual,y_train,iteration,learning_rate):\n",
        "#     W,b = Initalize_Wb()\n",
        "#     print(len(W),len(b))\n",
        "#     for i in range(iteration):\n",
        "#         Y_predicted, Intermediate_Activation, A = feedForward(x_trainFlat.T,W,b)\n",
        "#         dW, db = backpropagation(x_trainFlat,Y_actual,Y_predicted,Intermediate_Activation,A,W,b)\n",
        "#         # print(\"x\",len(b),b[0].shape,b[1].shape,b[2].shape)\n",
        "#         W,b = Update(W,b,dW,db,learning_rate)\n",
        "#         #print(\"len of b\",len(b))\n",
        "#         if i % 10 == 0:\n",
        "#             print(\"iteration:\", i)\n",
        "#            # y_pred = get_prediction(Y_predicted)\n",
        "#             #print(\"Ypredicted\",Y_predicted[:,1])\n",
        "#             #print(\"y_actual\",Y_actual[:,1])\n",
        "#             #acuracy = getAccuracy(Y_predicted, Y_actual)\n",
        "#             predictions = get_predictions(Y_predicted)\n",
        "#             print(\"Accuracy:\", get_accuracy(predictions,y_train)*100)\n",
        "#     return W,b\n",
        "     \n",
        "\n",
        "# W,b = gradient_descent(x_trainFlat, Y_actual,y_train,1000, 0.1)"
      ]
    },
    {
      "cell_type": "code",
      "source": [
        "# def stochastic_gradient_descent(x_trainFlat, Y_actual, y_train, batch_size, epochs, learning_rate):\n",
        "#     W, b = Initalize_Wb()\n",
        "#     print(len(W), len(b))\n",
        "#     m = x_trainFlat.shape[1]\n",
        "#     print(m)\n",
        "#     for epoch in range(epochs):\n",
        "#         epoch_loss = 0\n",
        "#         for i in range(0, m, batch_size):\n",
        "#             x_batch = x_trainFlat[:, i:i+batch_size]\n",
        "#             y_batch = Y_actual[:, i:i+batch_size]\n",
        "#             Y_predicted, Intermediate_Activation, A = feedForward(x_batch.T, W, b)\n",
        "#             dW, db = backpropagation(x_batch, y_batch, Y_predicted, Intermediate_Activation, A, W, b)\n",
        "#             W, b = Update(W, b, dW, db, learning_rate)\n",
        "#             epoch_loss += np.sum((Y_predicted - y_batch) ** 2)\n",
        "#         epoch_loss /= m\n",
        "#         if epoch % 10 == 0:\n",
        "#             print(f\"Epoch {epoch}, Loss {epoch_loss}\")\n",
        "#             predictions = get_predictions(Y_predicted)\n",
        "#             print(\"Accuracy:\", get_accuracy(predictions,y_train)*100)\n",
        "#     return W, b\n",
        "\n",
        "# W, b = stochastic_gradient_descent(x_trainFlat, Y_actual, y_train, batch_size=64, epochs=100, learning_rate=0.1)\n"
      ],
      "metadata": {
        "id": "jsDOkq_MX4Ar",
        "colab": {
          "base_uri": "https://localhost:8080/",
          "height": 311
        },
        "outputId": "9c029f06-485c-4d3a-8aef-034a5b2d377c"
      },
      "execution_count": null,
      "outputs": [
        {
          "output_type": "stream",
          "name": "stdout",
          "text": [
            "[104, 181]\n",
            "3 3\n",
            "784\n"
          ]
        },
        {
          "output_type": "error",
          "ename": "ValueError",
          "evalue": "ignored",
          "traceback": [
            "\u001b[0;31m---------------------------------------------------------------------------\u001b[0m",
            "\u001b[0;31mValueError\u001b[0m                                Traceback (most recent call last)",
            "\u001b[0;32m<ipython-input-11-8a3a0c251bf7>\u001b[0m in \u001b[0;36m<module>\u001b[0;34m\u001b[0m\n\u001b[1;32m     20\u001b[0m     \u001b[0;32mreturn\u001b[0m \u001b[0mW\u001b[0m\u001b[0;34m,\u001b[0m \u001b[0mb\u001b[0m\u001b[0;34m\u001b[0m\u001b[0;34m\u001b[0m\u001b[0m\n\u001b[1;32m     21\u001b[0m \u001b[0;34m\u001b[0m\u001b[0m\n\u001b[0;32m---> 22\u001b[0;31m \u001b[0mW\u001b[0m\u001b[0;34m,\u001b[0m \u001b[0mb\u001b[0m \u001b[0;34m=\u001b[0m \u001b[0mstochastic_gradient_descent\u001b[0m\u001b[0;34m(\u001b[0m\u001b[0mx_trainFlat\u001b[0m\u001b[0;34m,\u001b[0m \u001b[0mY_actual\u001b[0m\u001b[0;34m,\u001b[0m \u001b[0my_train\u001b[0m\u001b[0;34m,\u001b[0m \u001b[0mbatch_size\u001b[0m\u001b[0;34m=\u001b[0m\u001b[0;36m64\u001b[0m\u001b[0;34m,\u001b[0m \u001b[0mepochs\u001b[0m\u001b[0;34m=\u001b[0m\u001b[0;36m100\u001b[0m\u001b[0;34m,\u001b[0m \u001b[0mlearning_rate\u001b[0m\u001b[0;34m=\u001b[0m\u001b[0;36m0.1\u001b[0m\u001b[0;34m)\u001b[0m\u001b[0;34m\u001b[0m\u001b[0;34m\u001b[0m\u001b[0m\n\u001b[0m",
            "\u001b[0;32m<ipython-input-11-8a3a0c251bf7>\u001b[0m in \u001b[0;36mstochastic_gradient_descent\u001b[0;34m(x_trainFlat, Y_actual, y_train, batch_size, epochs, learning_rate)\u001b[0m\n\u001b[1;32m      9\u001b[0m             \u001b[0mx_batch\u001b[0m \u001b[0;34m=\u001b[0m \u001b[0mx_trainFlat\u001b[0m\u001b[0;34m[\u001b[0m\u001b[0;34m:\u001b[0m\u001b[0;34m,\u001b[0m \u001b[0mi\u001b[0m\u001b[0;34m:\u001b[0m\u001b[0mi\u001b[0m\u001b[0;34m+\u001b[0m\u001b[0mbatch_size\u001b[0m\u001b[0;34m]\u001b[0m\u001b[0;34m\u001b[0m\u001b[0;34m\u001b[0m\u001b[0m\n\u001b[1;32m     10\u001b[0m             \u001b[0my_batch\u001b[0m \u001b[0;34m=\u001b[0m \u001b[0mY_actual\u001b[0m\u001b[0;34m[\u001b[0m\u001b[0;34m:\u001b[0m\u001b[0;34m,\u001b[0m \u001b[0mi\u001b[0m\u001b[0;34m:\u001b[0m\u001b[0mi\u001b[0m\u001b[0;34m+\u001b[0m\u001b[0mbatch_size\u001b[0m\u001b[0;34m]\u001b[0m\u001b[0;34m\u001b[0m\u001b[0;34m\u001b[0m\u001b[0m\n\u001b[0;32m---> 11\u001b[0;31m             \u001b[0mY_predicted\u001b[0m\u001b[0;34m,\u001b[0m \u001b[0mIntermediate_Activation\u001b[0m\u001b[0;34m,\u001b[0m \u001b[0mA\u001b[0m \u001b[0;34m=\u001b[0m \u001b[0mfeedForward\u001b[0m\u001b[0;34m(\u001b[0m\u001b[0mx_batch\u001b[0m\u001b[0;34m.\u001b[0m\u001b[0mT\u001b[0m\u001b[0;34m,\u001b[0m \u001b[0mW\u001b[0m\u001b[0;34m,\u001b[0m \u001b[0mb\u001b[0m\u001b[0;34m)\u001b[0m\u001b[0;34m\u001b[0m\u001b[0;34m\u001b[0m\u001b[0m\n\u001b[0m\u001b[1;32m     12\u001b[0m             \u001b[0mdW\u001b[0m\u001b[0;34m,\u001b[0m \u001b[0mdb\u001b[0m \u001b[0;34m=\u001b[0m \u001b[0mbackpropagation\u001b[0m\u001b[0;34m(\u001b[0m\u001b[0mx_batch\u001b[0m\u001b[0;34m,\u001b[0m \u001b[0my_batch\u001b[0m\u001b[0;34m,\u001b[0m \u001b[0mY_predicted\u001b[0m\u001b[0;34m,\u001b[0m \u001b[0mIntermediate_Activation\u001b[0m\u001b[0;34m,\u001b[0m \u001b[0mA\u001b[0m\u001b[0;34m,\u001b[0m \u001b[0mW\u001b[0m\u001b[0;34m,\u001b[0m \u001b[0mb\u001b[0m\u001b[0;34m)\u001b[0m\u001b[0;34m\u001b[0m\u001b[0;34m\u001b[0m\u001b[0m\n\u001b[1;32m     13\u001b[0m             \u001b[0mW\u001b[0m\u001b[0;34m,\u001b[0m \u001b[0mb\u001b[0m \u001b[0;34m=\u001b[0m \u001b[0mUpdate\u001b[0m\u001b[0;34m(\u001b[0m\u001b[0mW\u001b[0m\u001b[0;34m,\u001b[0m \u001b[0mb\u001b[0m\u001b[0;34m,\u001b[0m \u001b[0mdW\u001b[0m\u001b[0;34m,\u001b[0m \u001b[0mdb\u001b[0m\u001b[0;34m,\u001b[0m \u001b[0mlearning_rate\u001b[0m\u001b[0;34m)\u001b[0m\u001b[0;34m\u001b[0m\u001b[0;34m\u001b[0m\u001b[0m\n",
            "\u001b[0;32m<ipython-input-6-23ab0ac8656b>\u001b[0m in \u001b[0;36mfeedForward\u001b[0;34m(input_data, W, b)\u001b[0m\n\u001b[1;32m     67\u001b[0m   \u001b[0;31m#  print(\"hello\",b[0].shape)\u001b[0m\u001b[0;34m\u001b[0m\u001b[0;34m\u001b[0m\u001b[0;34m\u001b[0m\u001b[0m\n\u001b[1;32m     68\u001b[0m   \u001b[0;31m#  print(b[0].reshape(-1,1).shape)\u001b[0m\u001b[0;34m\u001b[0m\u001b[0;34m\u001b[0m\u001b[0;34m\u001b[0m\u001b[0m\n\u001b[0;32m---> 69\u001b[0;31m    \u001b[0mY\u001b[0m \u001b[0;34m=\u001b[0m\u001b[0mnp\u001b[0m\u001b[0;34m.\u001b[0m\u001b[0mdot\u001b[0m\u001b[0;34m(\u001b[0m\u001b[0mW\u001b[0m\u001b[0;34m[\u001b[0m\u001b[0;36m0\u001b[0m\u001b[0;34m]\u001b[0m\u001b[0;34m,\u001b[0m\u001b[0minput_data\u001b[0m\u001b[0;34m)\u001b[0m \u001b[0;34m+\u001b[0m \u001b[0mb\u001b[0m\u001b[0;34m[\u001b[0m\u001b[0;36m0\u001b[0m\u001b[0;34m]\u001b[0m\u001b[0;34m\u001b[0m\u001b[0;34m\u001b[0m\u001b[0m\n\u001b[0m\u001b[1;32m     70\u001b[0m    \u001b[0mtemp\u001b[0m\u001b[0;34m.\u001b[0m\u001b[0mappend\u001b[0m\u001b[0;34m(\u001b[0m\u001b[0mY\u001b[0m\u001b[0;34m)\u001b[0m\u001b[0;34m\u001b[0m\u001b[0;34m\u001b[0m\u001b[0m\n\u001b[1;32m     71\u001b[0m    \u001b[0mY\u001b[0m\u001b[0;34m=\u001b[0m \u001b[0mReLU\u001b[0m\u001b[0;34m(\u001b[0m\u001b[0mY\u001b[0m\u001b[0;34m)\u001b[0m\u001b[0;34m\u001b[0m\u001b[0;34m\u001b[0m\u001b[0m\n",
            "\u001b[0;32m/usr/local/lib/python3.8/dist-packages/numpy/core/overrides.py\u001b[0m in \u001b[0;36mdot\u001b[0;34m(*args, **kwargs)\u001b[0m\n",
            "\u001b[0;31mValueError\u001b[0m: shapes (104,784) and (64,60000) not aligned: 784 (dim 1) != 64 (dim 0)"
          ]
        }
      ]
    },
    {
      "cell_type": "code",
      "source": [
        "\n",
        "\n",
        "def stochastic_gradient_descent(x_trainFlat, Y_actual, y_train, iteration, learning_rate, batch_size):\n",
        "    W, b = Initalize_Wb()\n",
        "    for i in range(iteration):\n",
        "        # Randomly shuffle the training data and split it into batches\n",
        "        idx = np.random.permutation(len(x_trainFlat))\n",
        "        x_trainFlat_shuffled = x_trainFlat[idx]\n",
        "        Y_actual_shuffled = Y_actual[:, idx]\n",
        "        y_train_shuffled = np.array(y_train)[idx]\n",
        "        for j in range(0, len(x_trainFlat), batch_size):\n",
        "            # Select a batch of training examples\n",
        "            x_batch = x_trainFlat_shuffled[j:j+batch_size]\n",
        "            Y_actual_batch = Y_actual_shuffled[:, j:j+batch_size]\n",
        "            y_train_batch = y_train_shuffled[j:j+batch_size]\n",
        "            # Compute the forward pass and backpropagation for the batch\n",
        "            Y_predicted_batch, Intermediate_Activation_batch, A_batch = feedForward(x_batch.T, W, b)\n",
        "            dW_batch, db_batch = backpropagation(x_batch, Y_actual_batch, Y_predicted_batch, Intermediate_Activation_batch, A_batch, W, b)\n",
        "            # Update the parameters using the batch gradient\n",
        "            W, b = Update(W, b, dW_batch, db_batch, learning_rate)\n",
        "        if i % 10 == 0:\n",
        "            # Compute the accuracy on the entire training set\n",
        "            Y_predicted, _, _ = feedForward(x_trainFlat.T, W, b)\n",
        "            predictions = get_predictions(Y_predicted)\n",
        "            accuracy = get_accuracy(predictions, y_train) * 100\n",
        "            print(f\"Iteration {i}: accuracy = {accuracy:.2f}%\")\n",
        "    return W, b\n",
        "\n",
        "\n",
        "W,b = stochastic_gradient_descent(x_trainFlat,Y_actual,y_train,100,0.1,64)"
      ],
      "metadata": {
        "id": "6hQ5LsDPX5AP",
        "colab": {
          "base_uri": "https://localhost:8080/"
        },
        "outputId": "44c0aab7-65cc-4ec3-e855-04c88e5f21c3"
      },
      "execution_count": null,
      "outputs": [
        {
          "output_type": "stream",
          "name": "stdout",
          "text": [
            "[157, 90]\n",
            "[9 0 2 ... 3 0 5] [9 0 0 ... 3 0 5]\n",
            "Iteration 0: accuracy = 77.25%\n",
            "[9 0 0 ... 3 0 5] [9 0 0 ... 3 0 5]\n",
            "Iteration 10: accuracy = 87.73%\n",
            "[9 0 0 ... 3 0 5] [9 0 0 ... 3 0 5]\n",
            "Iteration 20: accuracy = 90.21%\n",
            "[9 0 0 ... 3 0 5] [9 0 0 ... 3 0 5]\n",
            "Iteration 30: accuracy = 91.97%\n",
            "[9 0 3 ... 3 0 5] [9 0 0 ... 3 0 5]\n",
            "Iteration 40: accuracy = 92.94%\n",
            "[9 0 0 ... 3 0 5] [9 0 0 ... 3 0 5]\n",
            "Iteration 50: accuracy = 92.98%\n",
            "[9 0 0 ... 3 0 5] [9 0 0 ... 3 0 5]\n",
            "Iteration 60: accuracy = 94.22%\n",
            "[9 0 0 ... 3 0 5] [9 0 0 ... 3 0 5]\n",
            "Iteration 70: accuracy = 94.91%\n",
            "[9 0 0 ... 3 0 5] [9 0 0 ... 3 0 5]\n",
            "Iteration 80: accuracy = 94.94%\n",
            "[9 0 0 ... 3 0 5] [9 0 0 ... 3 0 5]\n",
            "Iteration 90: accuracy = 94.84%\n"
          ]
        }
      ]
    },
    {
      "cell_type": "code",
      "execution_count": null,
      "metadata": {
        "id": "10RI4yyqpitB"
      },
      "outputs": [],
      "source": []
    }
  ],
  "metadata": {
    "colab": {
      "provenance": [],
      "include_colab_link": true
    },
    "gpuClass": "standard",
    "kernelspec": {
      "display_name": "Python 3",
      "name": "python3"
    },
    "language_info": {
      "name": "python"
    }
  },
  "nbformat": 4,
  "nbformat_minor": 0
}